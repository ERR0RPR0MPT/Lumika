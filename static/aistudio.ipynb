{
 "cells": [
  {
   "cell_type": "markdown",
   "metadata": {},
   "source": [
    "# Lumika AIStudio 笔记本"
   ]
  },
  {
   "cell_type": "markdown",
   "metadata": {},
   "source": [
    "## 先安装"
   ]
  },
  {
   "cell_type": "code",
   "execution_count": null,
   "metadata": {
    "scrolled": true,
    "tags": []
   },
   "outputs": [],
   "source": [
    "!mkdir -p /home/aistudio/temp1\r\n",
    "!cd ./temp1 && \\\r\n",
    "  wget https://go.dev/dl/go1.21.2.linux-amd64.tar.gz && \\\r\n",
    "  tar -C /home/aistudio -zxvf go1.21.2.linux-amd64.tar.gz\r\n",
    "!git clone https://ghproxy.com/https://github.com/ERR0RPR0MPT/Lumika.git\r\n",
    "!mv /home/aistudio/Lumika /home/aistudio/temp2\r\n",
    "!cd /home/aistudio/temp2 && \\\r\n",
    "    /home/aistudio/go/bin/go env -w GO111MODULE=on && \\\r\n",
    "    /home/aistudio/go/bin/go env -w GOPROXY=https://goproxy.cn,direct && \\\r\n",
    "    /home/aistudio/go/bin/go build -o /home/aistudio/lumika .\r\n",
    "!pip install pyngrok\r\n",
    "!rm -rf /home/aistudio/temp1\r\n",
    "!rm -rf /home/aistudio/temp2\r\n",
    "!chmod 777 -R /home/aistudio\r\n",
    "!chmod a+x -R /home/aistudio\r\n",
    "from IPython.display import clear_output\r\n",
    "clear_output()\r\n",
    "print(\"安装成功，点击下面的运行即可\")"
   ]
  },
  {
   "cell_type": "markdown",
   "metadata": {},
   "source": [
    "## 安装完毕后去 ngrok 的官网注册个账号，在下方填写 ngrok 的 authtoken 之后再运行"
   ]
  },
  {
   "cell_type": "code",
   "execution_count": null,
   "metadata": {
    "scrolled": true,
    "tags": []
   },
   "outputs": [],
   "source": [
    "import os\r\n",
    "import random\r\n",
    "from pyngrok import ngrok, conf\r\n",
    "\r\n",
    "conf.get_default().auth_token = 'your_token'\r\n",
    "\r\n",
    "p = random.randint(10000, 65535)\r\n",
    "\r\n",
    "# 启动 Lumika\r\n",
    "os.system(\"/home/aistudio/lumika web -p \"+str(p)+\" &\")\r\n",
    "\r\n",
    "# 获取公共URL\r\n",
    "public_url = ngrok.connect(p).public_url\r\n",
    "print('公共URL:', public_url)"
   ]
  }
 ],
 "metadata": {
  "kernelspec": {
   "display_name": "Python 3",
   "language": "python",
   "name": "py35-paddle1.2.0"
  },
  "language_info": {
   "codemirror_mode": {
    "name": "ipython",
    "version": 3
   },
   "file_extension": ".py",
   "mimetype": "text/x-python",
   "name": "python",
   "nbconvert_exporter": "python",
   "pygments_lexer": "ipython3",
   "version": "3.10.10"
  }
 },
 "nbformat": 4,
 "nbformat_minor": 4
}
