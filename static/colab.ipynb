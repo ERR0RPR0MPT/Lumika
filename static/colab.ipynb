{
  "cells": [
    {
      "cell_type": "markdown",
      "source": [
        "# Lumika Colab 笔记本\n",
        "\n",
        "直接点下面的运行即可."
      ],
      "metadata": {
        "id": "4Na8pAMAuQc0"
      }
    },
    {
      "cell_type": "markdown",
      "source": [
        "## 先安装依赖"
      ],
      "metadata": {
        "id": "81q9nJ23973t"
      }
    },
    {
      "cell_type": "code",
      "source": [
        "!apt -qq update\n",
        "!apt -qq install ffmpeg git wget -y\n",
        "!mkdir -p /content/temp1\n",
        "!cd ./temp1 && \\\n",
        "  wget -q https://go.dev/dl/go1.21.2.linux-amd64.tar.gz && \\\n",
        "  tar -C /usr/local -zxvf go1.21.2.linux-amd64.tar.gz\n",
        "!git clone https://github.com/ERR0RPR0MPT/Lumika.git\n",
        "!mv /content/Lumika /content/temp2\n",
        "!cd /content/temp2 && \\\n",
        "  /usr/local/go/bin/go build -o /content/lumika .\n",
        "!wget -q https://github.com/cloudflare/cloudflared/releases/latest/download/cloudflared-linux-amd64\n",
        "!mv /content/cloudflared-linux-amd64 /content/cloudflared\n",
        "!rm -rf /content/temp1\n",
        "!rm -rf /content/temp2\n",
        "!chmod 777 -R /content\n",
        "!chmod a+x -R /content\n",
        "from IPython.display import clear_output\n",
        "clear_output()\n",
        "print(\"安装成功，点击下面的运行即可\")"
      ],
      "metadata": {
        "id": "FhrceJGKuir_"
      },
      "execution_count": null,
      "outputs": []
    },
    {
      "cell_type": "markdown",
      "source": [
        "## 安装完毕后直接运行，如果访问 cloudflared 的地址响应错误就重启再尝试"
      ],
      "metadata": {
        "id": "mv74uGa69_VE"
      }
    },
    {
      "cell_type": "code",
      "source": [
        "!/content/cloudflared tunnel --url http://localhost:7860 &\n",
        "!/content/lumika"
      ],
      "metadata": {
        "id": "JXwcaUed7_KW"
      },
      "execution_count": null,
      "outputs": []
    }
  ],
  "metadata": {
    "colab": {
      "toc_visible": true,
      "provenance": []
    },
    "kernelspec": {
      "display_name": "Python 3",
      "name": "python3"
    }
  },
  "nbformat": 4,
  "nbformat_minor": 0
}